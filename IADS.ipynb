{
  "nbformat": 4,
  "nbformat_minor": 0,
  "metadata": {
    "colab": {
      "name": "IADS.ipynb",
      "provenance": [],
      "authorship_tag": "ABX9TyN634ezsUnAnmBOMsqsFvPZ",
      "include_colab_link": true
    },
    "kernelspec": {
      "name": "python3",
      "display_name": "Python 3"
    },
    "language_info": {
      "name": "python"
    }
  },
  "cells": [
    {
      "cell_type": "markdown",
      "metadata": {
        "id": "view-in-github",
        "colab_type": "text"
      },
      "source": [
        "<a href=\"https://colab.research.google.com/github/shamala31/IADS_Python2021/blob/main/IADS.ipynb\" target=\"_parent\"><img src=\"https://colab.research.google.com/assets/colab-badge.svg\" alt=\"Open In Colab\"/></a>"
      ]
    },
    {
      "cell_type": "markdown",
      "metadata": {
        "id": "QnlI1OWlDyD8"
      },
      "source": [
        "# My First Heading\n",
        "\n",
        "Hello Everyone"
      ]
    },
    {
      "cell_type": "markdown",
      "metadata": {
        "id": "RbZ4JT-WBVOh"
      },
      "source": [
        "#IADS Summer School\n",
        "This is my first code in Python\n"
      ]
    },
    {
      "cell_type": "code",
      "metadata": {
        "colab": {
          "base_uri": "https://localhost:8080/"
        },
        "id": "LEBmo7iLCALH",
        "outputId": "020365d6-f2f1-44ed-aa79-1bb5c553226c"
      },
      "source": [
        "print('Hello')"
      ],
      "execution_count": null,
      "outputs": [
        {
          "output_type": "stream",
          "text": [
            "Hello\n"
          ],
          "name": "stdout"
        }
      ]
    }
  ]
}